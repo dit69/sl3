{
 "cells": [
  {
   "cell_type": "markdown",
   "id": "6b87b7e6-e75b-44d9-ae99-332996791563",
   "metadata": {},
   "source": [
    "### Create an “Academic performance” dataset of students and perform the following operations using Python.\n",
    "### 1. Scan all variables for missing values and inconsistencies. If there are missing values and/or inconsistencies, use any of the suitable techniques to deal with them.\n",
    "### 2. Scan all numeric variables for outliers. If there are outliers, use any of the suitable techniques to dealwith them.\n",
    "### 3. Apply data transformations on at least one of the variables. The purpose of this transformation should be one of the following reasons: to change the scale for better understanding of the variable, to convert a non-linear relation into a linear one, or to decrease the skewness and convert the distribution into a normal distribution.\n",
    "### 4. Reason and document your approach properly."
   ]
  },
  {
   "cell_type": "code",
   "execution_count": 2,
   "id": "b37418d1-bd45-48d7-a4f6-7c8cee4d58ac",
   "metadata": {},
   "outputs": [],
   "source": [
    "import pandas as pd\n",
    "import numpy as np\n",
    "import seaborn as sns\n",
    "import matplotlib.pyplot as plt\n",
    "from sklearn.preprocessing import MinMaxScaler, LabelEncoder"
   ]
  },
  {
   "cell_type": "code",
   "execution_count": 3,
   "id": "c28e4689-0f8b-49f8-884e-a6e9fcfcfc8d",
   "metadata": {},
   "outputs": [],
   "source": [
    "df = pd.read_csv(\"studentdataset.csv\")"
   ]
  },
  {
   "cell_type": "code",
   "execution_count": 4,
   "id": "985fe0d9-1e54-4ee8-a10f-40cd05586faa",
   "metadata": {},
   "outputs": [
    {
     "name": "stdout",
     "output_type": "stream",
     "text": [
      "Initial Dataset Overview:\n",
      "   Rollno     Name  FE_Score  SE_Score Department  Placement\n",
      "0       1    Vivek      24.0      86.0         CS     Google\n",
      "1       2    Kriti      54.0      81.0         IT  Microsoft\n",
      "2       3  Samarth      93.0      64.0         IT  Microsoft\n",
      "3       4   Tripti      10.0      93.0         CS     Google\n",
      "4       5    Vivek      54.0      79.0      AI&DS  Microsoft\n",
      "\n",
      "Dataset Info:\n",
      "<class 'pandas.core.frame.DataFrame'>\n",
      "RangeIndex: 150 entries, 0 to 149\n",
      "Data columns (total 6 columns):\n",
      " #   Column      Non-Null Count  Dtype  \n",
      "---  ------      --------------  -----  \n",
      " 0   Rollno      150 non-null    int64  \n",
      " 1   Name        150 non-null    object \n",
      " 2   FE_Score    148 non-null    float64\n",
      " 3   SE_Score    148 non-null    float64\n",
      " 4   Department  150 non-null    object \n",
      " 5   Placement   149 non-null    object \n",
      "dtypes: float64(2), int64(1), object(3)\n",
      "memory usage: 7.2+ KB\n",
      "None\n",
      "\n",
      "Missing Values:\n",
      "Rollno        0\n",
      "Name          0\n",
      "FE_Score      2\n",
      "SE_Score      2\n",
      "Department    0\n",
      "Placement     1\n",
      "dtype: int64\n"
     ]
    }
   ],
   "source": [
    "print(\"Initial Dataset Overview:\")\n",
    "print(df.head())\n",
    "print(\"\\nDataset Info:\")\n",
    "print(df.info())\n",
    "print(\"\\nMissing Values:\")\n",
    "print(df.isna().sum())"
   ]
  },
  {
   "cell_type": "code",
   "execution_count": 5,
   "id": "1b9dfe4d-a18c-4bc2-9e71-80840aac8d03",
   "metadata": {},
   "outputs": [],
   "source": [
    "df['FE_Score'] = df['FE_Score'].fillna(df['FE_Score'].median())"
   ]
  },
  {
   "cell_type": "code",
   "execution_count": 6,
   "id": "765928bf-c16f-407f-9650-fcea84f5ab59",
   "metadata": {},
   "outputs": [],
   "source": [
    "df['SE_Score'] = df['SE_Score'].fillna(df['SE_Score'].mode()[0])"
   ]
  },
  {
   "cell_type": "code",
   "execution_count": 8,
   "id": "6c5965df-3cd1-4916-b415-8bc944db6b21",
   "metadata": {},
   "outputs": [],
   "source": [
    "df['Placement'] = df['Placement'].fillna(df['Placement'].mode()[0])"
   ]
  },
  {
   "cell_type": "code",
   "execution_count": 9,
   "id": "4a11c226-34f0-4d3e-bd84-891b51913689",
   "metadata": {},
   "outputs": [
    {
     "name": "stdout",
     "output_type": "stream",
     "text": [
      "\n",
      "After handling missing values:\n",
      "Rollno        0\n",
      "Name          0\n",
      "FE_Score      0\n",
      "SE_Score      0\n",
      "Department    0\n",
      "Placement     0\n",
      "dtype: int64\n"
     ]
    }
   ],
   "source": [
    "print(\"\\nAfter handling missing values:\")\n",
    "print(df.isna().sum())"
   ]
  },
  {
   "cell_type": "code",
   "execution_count": 10,
   "id": "041d4aea-e190-4b4c-bc2e-2726971cf187",
   "metadata": {},
   "outputs": [
    {
     "data": {
      "text/plain": [
       "Text(0.5, 1.0, 'FE_Score Boxplot')"
      ]
     },
     "execution_count": 10,
     "metadata": {},
     "output_type": "execute_result"
    },
    {
     "data": {
      "image/png": "[encoded data removed]",
      "text/plain": [
       "<Figure size 1200x500 with 1 Axes>"
      ]
     },
     "metadata": {},
     "output_type": "display_data"
    }
   ],
   "source": [
    "plt.figure(figsize=(12, 5))\n",
    "plt.subplot(1, 2, 1)\n",
    "sns.boxplot(df[\"FE_Score\"])\n",
    "plt.title(\"FE_Score Boxplot\")"
   ]
  },
  {
   "cell_type": "code",
   "execution_count": 11,
   "id": "442c2d02-a0df-47ca-ad28-bf52cdd6ac58",
   "metadata": {},
   "outputs": [
    {
     "data": {
      "image/png": "[encoded data removed]",
      "text/plain": [
       "<Figure size 640x480 with 1 Axes>"
      ]
     },
     "metadata": {},
     "output_type": "display_data"
    }
   ],
   "source": [
    "plt.subplot(1, 2, 2)\n",
    "sns.boxplot(df[\"SE_Score\"])\n",
    "plt.title(\"SE_Score Boxplot\")\n",
    "plt.show()"
   ]
  },
  {
   "cell_type": "code",
   "execution_count": 12,
   "id": "a18f68d1-78c3-4a92-8bdd-df15cf45a8d5",
   "metadata": {},
   "outputs": [],
   "source": [
    "def detect_outliers(col):\n",
    "    Q1 = df[col].quantile(0.25)\n",
    "    Q3 = df[col].quantile(0.75)\n",
    "    IQR = Q3 - Q1\n",
    "    lower_bound = Q1 - 1.5 * IQR\n",
    "    upper_bound = Q3 + 1.5 * IQR\n",
    "    return df[(df[col] < lower_bound) | (df[col] > upper_bound)]"
   ]
  },
  {
   "cell_type": "code",
   "execution_count": 13,
   "id": "c2189e8f-d0e7-4370-8472-33642beaa407",
   "metadata": {},
   "outputs": [
    {
     "name": "stdout",
     "output_type": "stream",
     "text": [
      "\n",
      "FE_Score Outliers:\n",
      "     Rollno    Name  FE_Score  SE_Score Department   Placement\n",
      "3         4  Tripti      10.0      93.0         CS      Google\n",
      "79       80  Tripti       5.0      73.0         CS  Congnizent\n",
      "145     146   Kriti      12.0      97.0         CS   Microsoft\n",
      "\n",
      "SE_Score Outliers:\n",
      "     Rollno     Name  FE_Score  SE_Score Department   Placement\n",
      "70       71  Samarth      69.0      10.0         IT  Congnizent\n",
      "146     147  Samarth      60.0      20.0         CS   Microsoft\n"
     ]
    }
   ],
   "source": [
    "print(\"\\nFE_Score Outliers:\")\n",
    "print(detect_outliers(\"FE_Score\"))\n",
    "print(\"\\nSE_Score Outliers:\")\n",
    "print(detect_outliers(\"SE_Score\"))"
   ]
  },
  {
   "cell_type": "code",
   "execution_count": 16,
   "id": "58797df8-7c2d-4a70-a549-23b49f5a4f6f",
   "metadata": {},
   "outputs": [],
   "source": [
    "def remove_outliers(df, col):\n",
    "    Q1 = df[col].quantile(0.25)\n",
    "    Q3 = df[col].quantile(0.75)\n",
    "    IQR = Q3 - Q1\n",
    "    lower_bound = Q1 - 1.5 * IQR\n",
    "    upper_bound = Q3 + 1.5 * IQR\n",
    "    return df[(df[col] >= lower_bound) & (df[col] <= upper_bound)]\n",
    "\n",
    "# Remove outliers from both columns sequentially\n",
    "df_clean = remove_outliers(df, \"FE_Score\")\n",
    "df_clean = remove_outliers(df_clean, \"SE_Score\")"
   ]
  },
  {
   "cell_type": "code",
   "execution_count": 17,
   "id": "b2ee5528-59a2-40a2-a048-0ed56371b703",
   "metadata": {},
   "outputs": [],
   "source": [
    "scaler = MinMaxScaler()\n",
    "df_clean[[\"FE_Score\", \"SE_Score\"]] = scaler.fit_transform(\n",
    "    df_clean[[\"FE_Score\", \"SE_Score\"]]\n",
    ")"
   ]
  },
  {
   "cell_type": "code",
   "execution_count": 18,
   "id": "31c9950d-1f15-488b-aea6-74d22ed1264a",
   "metadata": {},
   "outputs": [],
   "source": [
    "le = LabelEncoder()\n",
    "df_clean[\"Department\"] = le.fit_transform(df_clean[\"Department\"])"
   ]
  },
  {
   "cell_type": "code",
   "execution_count": 19,
   "id": "2daac6ca-2786-4324-a644-25f45faf3d54",
   "metadata": {},
   "outputs": [
    {
     "data": {
      "text/html": [
       "<div>\n",
       "<style scoped>\n",
       "    .dataframe tbody tr th:only-of-type {\n",
       "        vertical-align: middle;\n",
       "    }\n",
       "\n",
       "    .dataframe tbody tr th {\n",
       "        vertical-align: top;\n",
       "    }\n",
       "\n",
       "    .dataframe thead th {\n",
       "        text-align: right;\n",
       "    }\n",
       "</style>\n",
       "<table border=\"1\" class=\"dataframe\">\n",
       "  <thead>\n",
       "    <tr style=\"text-align: right;\">\n",
       "      <th></th>\n",
       "      <th>Rollno</th>\n",
       "      <th>Name</th>\n",
       "      <th>FE_Score</th>\n",
       "      <th>SE_Score</th>\n",
       "      <th>Department</th>\n",
       "      <th>Placement</th>\n",
       "    </tr>\n",
       "  </thead>\n",
       "  <tbody>\n",
       "    <tr>\n",
       "      <th>0</th>\n",
       "      <td>1</td>\n",
       "      <td>Vivek</td>\n",
       "      <td>0.000000</td>\n",
       "      <td>0.8250</td>\n",
       "      <td>1</td>\n",
       "      <td>Google</td>\n",
       "    </tr>\n",
       "    <tr>\n",
       "      <th>1</th>\n",
       "      <td>2</td>\n",
       "      <td>Kriti</td>\n",
       "      <td>0.394737</td>\n",
       "      <td>0.7625</td>\n",
       "      <td>2</td>\n",
       "      <td>Microsoft</td>\n",
       "    </tr>\n",
       "    <tr>\n",
       "      <th>2</th>\n",
       "      <td>3</td>\n",
       "      <td>Samarth</td>\n",
       "      <td>0.907895</td>\n",
       "      <td>0.5500</td>\n",
       "      <td>2</td>\n",
       "      <td>Microsoft</td>\n",
       "    </tr>\n",
       "    <tr>\n",
       "      <th>4</th>\n",
       "      <td>5</td>\n",
       "      <td>Vivek</td>\n",
       "      <td>0.394737</td>\n",
       "      <td>0.7375</td>\n",
       "      <td>0</td>\n",
       "      <td>Microsoft</td>\n",
       "    </tr>\n",
       "    <tr>\n",
       "      <th>5</th>\n",
       "      <td>6</td>\n",
       "      <td>Kriti</td>\n",
       "      <td>0.618421</td>\n",
       "      <td>0.8500</td>\n",
       "      <td>0</td>\n",
       "      <td>Congnizent</td>\n",
       "    </tr>\n",
       "  </tbody>\n",
       "</table>\n",
       "</div>"
      ],
      "text/plain": [
       "   Rollno     Name  FE_Score  SE_Score  Department   Placement\n",
       "0       1    Vivek  0.000000    0.8250           1      Google\n",
       "1       2    Kriti  0.394737    0.7625           2   Microsoft\n",
       "2       3  Samarth  0.907895    0.5500           2   Microsoft\n",
       "4       5    Vivek  0.394737    0.7375           0   Microsoft\n",
       "5       6    Kriti  0.618421    0.8500           0  Congnizent"
      ]
     },
     "execution_count": 19,
     "metadata": {},
     "output_type": "execute_result"
    }
   ],
   "source": [
    "df_clean.head()"
   ]
  },
  {
   "cell_type": "code",
   "execution_count": null,
   "id": "937932fa-b41a-4cb4-8eb8-ccac19d90472",
   "metadata": {},
   "outputs": [],
   "source": [
    "\"\"\"\n",
    "Data Processing Documentation:\n",
    "\n",
    "1. Missing Values Handling:\n",
    "   - FE_Score (numerical): Filled with median (70.0) \n",
    "   - SE_Score (numerical): Filled with mode (85.0) \n",
    "\n",
    "2. Outlier Handling:\n",
    "   - Detected using IQR method (values beyond Q1-1.5*IQR or Q3+1.5*IQR)\n",
    "   - Removed outlier\n",
    "\n",
    "3. Data Transformations:\n",
    "   - FE_Score: MinMax normalization (0-1 range) for better scaling\n",
    "   - SE_Score: MinMax normalization (0-1 range) for better scaling\n",
    "   \n",
    "\n",
    "4. Categorical Encoding:\n",
    "   - Department: Label encoded (CS=1, AI&DS=0, IT=2)\n",
    "\n",
    "\n",
    "\"\"\""
   ]
  }
 ],
 "metadata": {
  "kernelspec": {
   "display_name": "Python 3 (ipykernel)",
   "language": "python",
   "name": "python3"
  },
  "language_info": {
   "codemirror_mode": {
    "name": "ipython",
    "version": 3
   },
   "file_extension": ".py",
   "mimetype": "text/x-python",
   "name": "python",
   "nbconvert_exporter": "python",
   "pygments_lexer": "ipython3",
   "version": "3.11.0"
  }
 },
 "nbformat": 4,
 "nbformat_minor": 5
}
